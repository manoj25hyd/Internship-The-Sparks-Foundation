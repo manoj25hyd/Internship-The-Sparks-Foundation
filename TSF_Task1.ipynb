{
  "nbformat": 4,
  "nbformat_minor": 0,
  "metadata": {
    "colab": {
      "name": "TSF_Task1.ipynb",
      "provenance": []
    },
    "kernelspec": {
      "name": "python3",
      "display_name": "Python 3"
    }
  },
  "cells": [
    {
      "cell_type": "markdown",
      "metadata": {
        "id": "vQ-QTlGTKnHm"
      },
      "source": [
        "# Graduate Rational Internship Programme - The Sparks Foundation\r\n",
        "\r\n",
        "> Name: Boda Manoj Kumar\r\n",
        "\r\n",
        "> Batch: GRIPFEB21\r\n",
        "\r\n",
        "> Task-1: Prediction using Supervised ML (simple linear regression with two variables \"Hours\" and \"Scores\")\r\n",
        "\r\n",
        "> Dataset: http://bit.ly/w-data\r\n",
        "\r\n",
        "\r\n",
        "\r\n",
        "\r\n",
        "\r\n",
        "\r\n",
        "\r\n",
        "\r\n"
      ]
    },
    {
      "cell_type": "markdown",
      "metadata": {
        "id": "Nxo5AQYqLb7P"
      },
      "source": [
        "### Importing Libraries:"
      ]
    },
    {
      "cell_type": "code",
      "metadata": {
        "id": "0tK0Io6SMe6t"
      },
      "source": [
        "import pandas as pd\r\n",
        "import matplotlib.pyplot as plt"
      ],
      "execution_count": 12,
      "outputs": []
    },
    {
      "cell_type": "markdown",
      "metadata": {
        "id": "T2AkDNBvMhH8"
      },
      "source": [
        "### Import the dataset:"
      ]
    },
    {
      "cell_type": "code",
      "metadata": {
        "colab": {
          "base_uri": "https://localhost:8080/",
          "height": 787
        },
        "id": "SbG6CqqwMvRE",
        "outputId": "aa80c88c-d6fb-471e-b7fd-a7753dfa8b9b"
      },
      "source": [
        "df = pd.read_csv(\"http://bit.ly/w-data\")\r\n",
        "\r\n",
        "df"
      ],
      "execution_count": 4,
      "outputs": [
        {
          "output_type": "execute_result",
          "data": {
            "text/html": [
              "<div>\n",
              "<style scoped>\n",
              "    .dataframe tbody tr th:only-of-type {\n",
              "        vertical-align: middle;\n",
              "    }\n",
              "\n",
              "    .dataframe tbody tr th {\n",
              "        vertical-align: top;\n",
              "    }\n",
              "\n",
              "    .dataframe thead th {\n",
              "        text-align: right;\n",
              "    }\n",
              "</style>\n",
              "<table border=\"1\" class=\"dataframe\">\n",
              "  <thead>\n",
              "    <tr style=\"text-align: right;\">\n",
              "      <th></th>\n",
              "      <th>Hours</th>\n",
              "      <th>Scores</th>\n",
              "    </tr>\n",
              "  </thead>\n",
              "  <tbody>\n",
              "    <tr>\n",
              "      <th>0</th>\n",
              "      <td>2.5</td>\n",
              "      <td>21</td>\n",
              "    </tr>\n",
              "    <tr>\n",
              "      <th>1</th>\n",
              "      <td>5.1</td>\n",
              "      <td>47</td>\n",
              "    </tr>\n",
              "    <tr>\n",
              "      <th>2</th>\n",
              "      <td>3.2</td>\n",
              "      <td>27</td>\n",
              "    </tr>\n",
              "    <tr>\n",
              "      <th>3</th>\n",
              "      <td>8.5</td>\n",
              "      <td>75</td>\n",
              "    </tr>\n",
              "    <tr>\n",
              "      <th>4</th>\n",
              "      <td>3.5</td>\n",
              "      <td>30</td>\n",
              "    </tr>\n",
              "    <tr>\n",
              "      <th>5</th>\n",
              "      <td>1.5</td>\n",
              "      <td>20</td>\n",
              "    </tr>\n",
              "    <tr>\n",
              "      <th>6</th>\n",
              "      <td>9.2</td>\n",
              "      <td>88</td>\n",
              "    </tr>\n",
              "    <tr>\n",
              "      <th>7</th>\n",
              "      <td>5.5</td>\n",
              "      <td>60</td>\n",
              "    </tr>\n",
              "    <tr>\n",
              "      <th>8</th>\n",
              "      <td>8.3</td>\n",
              "      <td>81</td>\n",
              "    </tr>\n",
              "    <tr>\n",
              "      <th>9</th>\n",
              "      <td>2.7</td>\n",
              "      <td>25</td>\n",
              "    </tr>\n",
              "    <tr>\n",
              "      <th>10</th>\n",
              "      <td>7.7</td>\n",
              "      <td>85</td>\n",
              "    </tr>\n",
              "    <tr>\n",
              "      <th>11</th>\n",
              "      <td>5.9</td>\n",
              "      <td>62</td>\n",
              "    </tr>\n",
              "    <tr>\n",
              "      <th>12</th>\n",
              "      <td>4.5</td>\n",
              "      <td>41</td>\n",
              "    </tr>\n",
              "    <tr>\n",
              "      <th>13</th>\n",
              "      <td>3.3</td>\n",
              "      <td>42</td>\n",
              "    </tr>\n",
              "    <tr>\n",
              "      <th>14</th>\n",
              "      <td>1.1</td>\n",
              "      <td>17</td>\n",
              "    </tr>\n",
              "    <tr>\n",
              "      <th>15</th>\n",
              "      <td>8.9</td>\n",
              "      <td>95</td>\n",
              "    </tr>\n",
              "    <tr>\n",
              "      <th>16</th>\n",
              "      <td>2.5</td>\n",
              "      <td>30</td>\n",
              "    </tr>\n",
              "    <tr>\n",
              "      <th>17</th>\n",
              "      <td>1.9</td>\n",
              "      <td>24</td>\n",
              "    </tr>\n",
              "    <tr>\n",
              "      <th>18</th>\n",
              "      <td>6.1</td>\n",
              "      <td>67</td>\n",
              "    </tr>\n",
              "    <tr>\n",
              "      <th>19</th>\n",
              "      <td>7.4</td>\n",
              "      <td>69</td>\n",
              "    </tr>\n",
              "    <tr>\n",
              "      <th>20</th>\n",
              "      <td>2.7</td>\n",
              "      <td>30</td>\n",
              "    </tr>\n",
              "    <tr>\n",
              "      <th>21</th>\n",
              "      <td>4.8</td>\n",
              "      <td>54</td>\n",
              "    </tr>\n",
              "    <tr>\n",
              "      <th>22</th>\n",
              "      <td>3.8</td>\n",
              "      <td>35</td>\n",
              "    </tr>\n",
              "    <tr>\n",
              "      <th>23</th>\n",
              "      <td>6.9</td>\n",
              "      <td>76</td>\n",
              "    </tr>\n",
              "    <tr>\n",
              "      <th>24</th>\n",
              "      <td>7.8</td>\n",
              "      <td>86</td>\n",
              "    </tr>\n",
              "  </tbody>\n",
              "</table>\n",
              "</div>"
            ],
            "text/plain": [
              "    Hours  Scores\n",
              "0     2.5      21\n",
              "1     5.1      47\n",
              "2     3.2      27\n",
              "3     8.5      75\n",
              "4     3.5      30\n",
              "5     1.5      20\n",
              "6     9.2      88\n",
              "7     5.5      60\n",
              "8     8.3      81\n",
              "9     2.7      25\n",
              "10    7.7      85\n",
              "11    5.9      62\n",
              "12    4.5      41\n",
              "13    3.3      42\n",
              "14    1.1      17\n",
              "15    8.9      95\n",
              "16    2.5      30\n",
              "17    1.9      24\n",
              "18    6.1      67\n",
              "19    7.4      69\n",
              "20    2.7      30\n",
              "21    4.8      54\n",
              "22    3.8      35\n",
              "23    6.9      76\n",
              "24    7.8      86"
            ]
          },
          "metadata": {
            "tags": []
          },
          "execution_count": 4
        }
      ]
    },
    {
      "cell_type": "markdown",
      "metadata": {
        "id": "HCULRsq3NVcU"
      },
      "source": [
        "### Checking for null values:"
      ]
    },
    {
      "cell_type": "code",
      "metadata": {
        "colab": {
          "base_uri": "https://localhost:8080/"
        },
        "id": "_Ivsl4GwNnJe",
        "outputId": "0dc23408-f4f7-4a5e-e2b8-c9ba067952fd"
      },
      "source": [
        "df.isnull().sum()"
      ],
      "execution_count": 5,
      "outputs": [
        {
          "output_type": "execute_result",
          "data": {
            "text/plain": [
              "Hours     0\n",
              "Scores    0\n",
              "dtype: int64"
            ]
          },
          "metadata": {
            "tags": []
          },
          "execution_count": 5
        }
      ]
    },
    {
      "cell_type": "markdown",
      "metadata": {
        "id": "1hEsMoAZNybT"
      },
      "source": [
        "\r\n",
        "\r\n",
        "*   As we can see there are no null values\r\n",
        "\r\n"
      ]
    },
    {
      "cell_type": "markdown",
      "metadata": {
        "id": "kW6Z1C8PN6lx"
      },
      "source": [
        "### Viewing the statistical information of the data"
      ]
    },
    {
      "cell_type": "code",
      "metadata": {
        "colab": {
          "base_uri": "https://localhost:8080/",
          "height": 284
        },
        "id": "VpH7DJKVPgam",
        "outputId": "742f8c29-0895-484e-e0a7-e3eb03d068d5"
      },
      "source": [
        "df.describe()"
      ],
      "execution_count": 7,
      "outputs": [
        {
          "output_type": "execute_result",
          "data": {
            "text/html": [
              "<div>\n",
              "<style scoped>\n",
              "    .dataframe tbody tr th:only-of-type {\n",
              "        vertical-align: middle;\n",
              "    }\n",
              "\n",
              "    .dataframe tbody tr th {\n",
              "        vertical-align: top;\n",
              "    }\n",
              "\n",
              "    .dataframe thead th {\n",
              "        text-align: right;\n",
              "    }\n",
              "</style>\n",
              "<table border=\"1\" class=\"dataframe\">\n",
              "  <thead>\n",
              "    <tr style=\"text-align: right;\">\n",
              "      <th></th>\n",
              "      <th>Hours</th>\n",
              "      <th>Scores</th>\n",
              "    </tr>\n",
              "  </thead>\n",
              "  <tbody>\n",
              "    <tr>\n",
              "      <th>count</th>\n",
              "      <td>25.000000</td>\n",
              "      <td>25.000000</td>\n",
              "    </tr>\n",
              "    <tr>\n",
              "      <th>mean</th>\n",
              "      <td>5.012000</td>\n",
              "      <td>51.480000</td>\n",
              "    </tr>\n",
              "    <tr>\n",
              "      <th>std</th>\n",
              "      <td>2.525094</td>\n",
              "      <td>25.286887</td>\n",
              "    </tr>\n",
              "    <tr>\n",
              "      <th>min</th>\n",
              "      <td>1.100000</td>\n",
              "      <td>17.000000</td>\n",
              "    </tr>\n",
              "    <tr>\n",
              "      <th>25%</th>\n",
              "      <td>2.700000</td>\n",
              "      <td>30.000000</td>\n",
              "    </tr>\n",
              "    <tr>\n",
              "      <th>50%</th>\n",
              "      <td>4.800000</td>\n",
              "      <td>47.000000</td>\n",
              "    </tr>\n",
              "    <tr>\n",
              "      <th>75%</th>\n",
              "      <td>7.400000</td>\n",
              "      <td>75.000000</td>\n",
              "    </tr>\n",
              "    <tr>\n",
              "      <th>max</th>\n",
              "      <td>9.200000</td>\n",
              "      <td>95.000000</td>\n",
              "    </tr>\n",
              "  </tbody>\n",
              "</table>\n",
              "</div>"
            ],
            "text/plain": [
              "           Hours     Scores\n",
              "count  25.000000  25.000000\n",
              "mean    5.012000  51.480000\n",
              "std     2.525094  25.286887\n",
              "min     1.100000  17.000000\n",
              "25%     2.700000  30.000000\n",
              "50%     4.800000  47.000000\n",
              "75%     7.400000  75.000000\n",
              "max     9.200000  95.000000"
            ]
          },
          "metadata": {
            "tags": []
          },
          "execution_count": 7
        }
      ]
    },
    {
      "cell_type": "markdown",
      "metadata": {
        "id": "ilPXhCrIPjj5"
      },
      "source": [
        "### Finding out the correlation between the Hours and Scores"
      ]
    },
    {
      "cell_type": "markdown",
      "metadata": {
        "id": "WchbN7CWP9VC"
      },
      "source": [
        "![image.png](data:image/png;base64,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)"
      ]
    },
    {
      "cell_type": "markdown",
      "metadata": {
        "id": "p1WwCVE6QXZp"
      },
      "source": [
        "Now based of above correlation formula I have created a function named correlation, in this function if we pass any two columns(in this case \"Hours\" and \"Scores\") it will give us the correlation between them"
      ]
    },
    {
      "cell_type": "code",
      "metadata": {
        "id": "DyjQqX-TRJN2"
      },
      "source": [
        "def correlation(X, y):\r\n",
        "  X_mean = X.mean()\r\n",
        "  y_mean = y.mean()\r\n",
        "  X_std = X.std()\r\n",
        "  y_std = y.std()\r\n",
        "  N = len(X)\r\n",
        "  X_Xi = []\r\n",
        "  y_yi = []\r\n",
        "  for i, j in list(zip(list(X), list(y))):\r\n",
        "    X_Xi.append(i-X_mean)\r\n",
        "    y_yi.append(j-y_mean)\r\n",
        "  sum = 0\r\n",
        "  for i, j in zip(X_Xi, y_yi):\r\n",
        "    sum = sum + i*j\r\n",
        "\r\n",
        "  r = (1/((N-1)*X_std*y_std))*sum\r\n",
        "  print(\"Correlation:\", r)"
      ],
      "execution_count": 9,
      "outputs": []
    },
    {
      "cell_type": "code",
      "metadata": {
        "colab": {
          "base_uri": "https://localhost:8080/"
        },
        "id": "LPxansPKRfv7",
        "outputId": "15bf1af3-fc0b-4505-8aa1-6831e75fddd0"
      },
      "source": [
        "# Calling the correlation function and passing Hours and Scores columns\r\n",
        "correlation(df[\"Hours\"], df[\"Scores\"])"
      ],
      "execution_count": 10,
      "outputs": [
        {
          "output_type": "stream",
          "text": [
            "Correlation: 0.976190656022089\n"
          ],
          "name": "stdout"
        }
      ]
    },
    {
      "cell_type": "markdown",
      "metadata": {
        "id": "cNwEmrRXRsLe"
      },
      "source": [
        "\r\n",
        "\r\n",
        "*   As we can see correlation is very very close to +1. That means Hours and Scores are in nearly a perfect positive correlation\r\n",
        "\r\n",
        "\r\n",
        "*   So, we can apply linear regression on the data\r\n",
        "\r\n",
        "\r\n",
        "\r\n",
        "\r\n",
        "\r\n"
      ]
    },
    {
      "cell_type": "markdown",
      "metadata": {
        "id": "a4f_3_d5R_ps"
      },
      "source": [
        "Lets Visualize the scatter plot between Hours and Scores"
      ]
    },
    {
      "cell_type": "code",
      "metadata": {
        "colab": {
          "base_uri": "https://localhost:8080/",
          "height": 295
        },
        "id": "ZKMWinJmTW7U",
        "outputId": "22543ecf-2f3f-40f0-c261-b59caf3e2bf7"
      },
      "source": [
        "plt.scatter(df.Hours, df.Scores)\r\n",
        "plt.title(\"Scores vs Hours\")\r\n",
        "plt.xlabel(\"Hours\")\r\n",
        "plt.ylabel(\"Scores\")\r\n",
        "plt.show()"
      ],
      "execution_count": 15,
      "outputs": [
        {
          "output_type": "display_data",
          "data": {
            "image/png": "[encoded data removed]",
            "text/plain": [
              "<Figure size 432x288 with 1 Axes>"
            ]
          },
          "metadata": {
            "tags": [],
            "needs_background": "light"
          }
        }
      ]
    },
    {
      "cell_type": "markdown",
      "metadata": {
        "id": "DMHy7zQXTnkN"
      },
      "source": [
        "\r\n",
        "\r\n",
        "*   As the correlation is 0.97 the points in scatter plot are very close to each other and we can clearly see Scores are linearly dependent on Hours.\r\n"
      ]
    },
    {
      "cell_type": "markdown",
      "metadata": {
        "id": "BoNP4DukUcpa"
      },
      "source": [
        "### Splitting the Data:"
      ]
    },
    {
      "cell_type": "code",
      "metadata": {
        "id": "i5HpWc4FUnj0"
      },
      "source": [
        "X = df.drop(columns = \"Scores\")   # Indepandent variable or Feature variable\r\n",
        "y = df.Scores    # Dependent variable or Target varable"
      ],
      "execution_count": 20,
      "outputs": []
    },
    {
      "cell_type": "code",
      "metadata": {
        "id": "vdeJGgpOU-J2"
      },
      "source": [
        "from sklearn.model_selection import train_test_split\r\n",
        "X_train, X_test, y_train, y_test = train_test_split(X, y, train_size = 0.80, random_state = 42)"
      ],
      "execution_count": 23,
      "outputs": []
    },
    {
      "cell_type": "code",
      "metadata": {
        "colab": {
          "base_uri": "https://localhost:8080/"
        },
        "id": "eju3rkziU-uI",
        "outputId": "01044fcd-e9fa-4afb-ba8b-39317913055d"
      },
      "source": [
        "print(X_train.head())"
      ],
      "execution_count": 26,
      "outputs": [
        {
          "output_type": "stream",
          "text": [
            "    Hours\n",
            "9     2.7\n",
            "13    3.3\n",
            "1     5.1\n",
            "22    3.8\n",
            "5     1.5\n"
          ],
          "name": "stdout"
        }
      ]
    },
    {
      "cell_type": "code",
      "metadata": {
        "colab": {
          "base_uri": "https://localhost:8080/"
        },
        "id": "Ab2_RBOhWdIm",
        "outputId": "0fe863bb-b444-4402-93f4-80435fcc1333"
      },
      "source": [
        "print(y_train.head())"
      ],
      "execution_count": 27,
      "outputs": [
        {
          "output_type": "stream",
          "text": [
            "9     25\n",
            "13    42\n",
            "1     47\n",
            "22    35\n",
            "5     20\n",
            "Name: Scores, dtype: int64\n"
          ],
          "name": "stdout"
        }
      ]
    },
    {
      "cell_type": "markdown",
      "metadata": {
        "id": "NJ9OAxIPWo7o"
      },
      "source": [
        "### Initializing the Linear Regression Model"
      ]
    },
    {
      "cell_type": "code",
      "metadata": {
        "id": "mBeBlNCDWzI5"
      },
      "source": [
        "from sklearn.linear_model import LinearRegression\r\n",
        "lr_model = LinearRegression()"
      ],
      "execution_count": 28,
      "outputs": []
    },
    {
      "cell_type": "markdown",
      "metadata": {
        "id": "1Dh_nTDSXCX8"
      },
      "source": [
        "### Training the Linear Regression Model"
      ]
    },
    {
      "cell_type": "code",
      "metadata": {
        "colab": {
          "base_uri": "https://localhost:8080/"
        },
        "id": "2BIj9BqBXIs4",
        "outputId": "17468c83-b4e9-40cb-9036-c7d0af93050a"
      },
      "source": [
        "lr_model.fit(X_train, y_train)"
      ],
      "execution_count": 29,
      "outputs": [
        {
          "output_type": "execute_result",
          "data": {
            "text/plain": [
              "LinearRegression(copy_X=True, fit_intercept=True, n_jobs=None, normalize=False)"
            ]
          },
          "metadata": {
            "tags": []
          },
          "execution_count": 29
        }
      ]
    },
    {
      "cell_type": "code",
      "metadata": {
        "colab": {
          "base_uri": "https://localhost:8080/"
        },
        "id": "4MJ1HWmSXSP2",
        "outputId": "149b012a-eb31-4422-f714-00d6d9ba003e"
      },
      "source": [
        "slope = lr_model.coef_[0]\r\n",
        "print(slope)"
      ],
      "execution_count": 33,
      "outputs": [
        {
          "output_type": "stream",
          "text": [
            "9.682078154455697\n"
          ],
          "name": "stdout"
        }
      ]
    },
    {
      "cell_type": "code",
      "metadata": {
        "colab": {
          "base_uri": "https://localhost:8080/"
        },
        "id": "5ODVYtwgXsDF",
        "outputId": "70917987-73bf-486c-b5c9-2ac9a822101e"
      },
      "source": [
        "x_intercept = lr_model.intercept_\r\n",
        "print(x_intercept)"
      ],
      "execution_count": 32,
      "outputs": [
        {
          "output_type": "stream",
          "text": [
            "2.826892353899737\n"
          ],
          "name": "stdout"
        }
      ]
    },
    {
      "cell_type": "code",
      "metadata": {
        "colab": {
          "base_uri": "https://localhost:8080/",
          "height": 295
        },
        "id": "piG5i1FaX5-1",
        "outputId": "ee1876af-aab5-422b-b0cb-4889a3191504"
      },
      "source": [
        "line = (slope * X) + x_intercept # (y = mx + c) m = slope, c = x-intercept\r\n",
        "plt.title(\"Regression Line\")\r\n",
        "plt.scatter(X, y)\r\n",
        "plt.plot(X, line, c = \"g\")\r\n",
        "plt.xlabel(\"Hours\")\r\n",
        "plt.ylabel(\"Scores\")\r\n",
        "plt.show()"
      ],
      "execution_count": 39,
      "outputs": [
        {
          "output_type": "display_data",
          "data": {
            "image/png": "[encoded data removed]",
            "text/plain": [
              "<Figure size 432x288 with 1 Axes>"
            ]
          },
          "metadata": {
            "tags": [],
            "needs_background": "light"
          }
        }
      ]
    },
    {
      "cell_type": "markdown",
      "metadata": {
        "id": "VUT-pAQVYgdI"
      },
      "source": [
        "### Making predictions with testing data"
      ]
    },
    {
      "cell_type": "code",
      "metadata": {
        "colab": {
          "base_uri": "https://localhost:8080/"
        },
        "id": "Fe-gjVhrZoZW",
        "outputId": "6e5ffe97-df11-4101-a8f1-7e8da07a1751"
      },
      "source": [
        "y_test_pred = lr_model.predict(X_test)\r\n",
        "print(y_test_pred)"
      ],
      "execution_count": 41,
      "outputs": [
        {
          "output_type": "stream",
          "text": [
            "[83.18814104 27.03208774 27.03208774 69.63323162 59.95115347]\n"
          ],
          "name": "stdout"
        }
      ]
    },
    {
      "cell_type": "markdown",
      "metadata": {
        "id": "5ftwZruBZ3zD"
      },
      "source": [
        "*   lets compare predicted(y_test_pred) values with actual(y_test) values\r\n",
        "\r\n",
        "\r\n"
      ]
    },
    {
      "cell_type": "code",
      "metadata": {
        "colab": {
          "base_uri": "https://localhost:8080/"
        },
        "id": "YfwRLCmUaPJ7",
        "outputId": "e3661ee8-eac9-43d4-c394-ca38bf901854"
      },
      "source": [
        "X_test[\"Actual Scores\"] = y_test\r\n",
        "X_test[\"Predicted Scores\"] = y_test_pred"
      ],
      "execution_count": 52,
      "outputs": [
        {
          "output_type": "stream",
          "text": [
            "/usr/local/lib/python3.6/dist-packages/ipykernel_launcher.py:1: SettingWithCopyWarning: \n",
            "A value is trying to be set on a copy of a slice from a DataFrame.\n",
            "Try using .loc[row_indexer,col_indexer] = value instead\n",
            "\n",
            "See the caveats in the documentation: https://pandas.pydata.org/pandas-docs/stable/user_guide/indexing.html#returning-a-view-versus-a-copy\n",
            "  \"\"\"Entry point for launching an IPython kernel.\n",
            "/usr/local/lib/python3.6/dist-packages/ipykernel_launcher.py:2: SettingWithCopyWarning: \n",
            "A value is trying to be set on a copy of a slice from a DataFrame.\n",
            "Try using .loc[row_indexer,col_indexer] = value instead\n",
            "\n",
            "See the caveats in the documentation: https://pandas.pydata.org/pandas-docs/stable/user_guide/indexing.html#returning-a-view-versus-a-copy\n",
            "  \n"
          ],
          "name": "stderr"
        }
      ]
    },
    {
      "cell_type": "code",
      "metadata": {
        "colab": {
          "base_uri": "https://localhost:8080/",
          "height": 195
        },
        "id": "vYa5i8OYafVh",
        "outputId": "eec77ee6-3146-4f1b-a89a-24b59a805ff9"
      },
      "source": [
        "X_test"
      ],
      "execution_count": 53,
      "outputs": [
        {
          "output_type": "execute_result",
          "data": {
            "text/html": [
              "<div>\n",
              "<style scoped>\n",
              "    .dataframe tbody tr th:only-of-type {\n",
              "        vertical-align: middle;\n",
              "    }\n",
              "\n",
              "    .dataframe tbody tr th {\n",
              "        vertical-align: top;\n",
              "    }\n",
              "\n",
              "    .dataframe thead th {\n",
              "        text-align: right;\n",
              "    }\n",
              "</style>\n",
              "<table border=\"1\" class=\"dataframe\">\n",
              "  <thead>\n",
              "    <tr style=\"text-align: right;\">\n",
              "      <th></th>\n",
              "      <th>Hours</th>\n",
              "      <th>Actual Scores</th>\n",
              "      <th>Predicted Scores</th>\n",
              "    </tr>\n",
              "  </thead>\n",
              "  <tbody>\n",
              "    <tr>\n",
              "      <th>8</th>\n",
              "      <td>8.3</td>\n",
              "      <td>81</td>\n",
              "      <td>83.188141</td>\n",
              "    </tr>\n",
              "    <tr>\n",
              "      <th>16</th>\n",
              "      <td>2.5</td>\n",
              "      <td>30</td>\n",
              "      <td>27.032088</td>\n",
              "    </tr>\n",
              "    <tr>\n",
              "      <th>0</th>\n",
              "      <td>2.5</td>\n",
              "      <td>21</td>\n",
              "      <td>27.032088</td>\n",
              "    </tr>\n",
              "    <tr>\n",
              "      <th>23</th>\n",
              "      <td>6.9</td>\n",
              "      <td>76</td>\n",
              "      <td>69.633232</td>\n",
              "    </tr>\n",
              "    <tr>\n",
              "      <th>11</th>\n",
              "      <td>5.9</td>\n",
              "      <td>62</td>\n",
              "      <td>59.951153</td>\n",
              "    </tr>\n",
              "  </tbody>\n",
              "</table>\n",
              "</div>"
            ],
            "text/plain": [
              "    Hours  Actual Scores  Predicted Scores\n",
              "8     8.3             81         83.188141\n",
              "16    2.5             30         27.032088\n",
              "0     2.5             21         27.032088\n",
              "23    6.9             76         69.633232\n",
              "11    5.9             62         59.951153"
            ]
          },
          "metadata": {
            "tags": []
          },
          "execution_count": 53
        }
      ]
    },
    {
      "cell_type": "code",
      "metadata": {
        "colab": {
          "base_uri": "https://localhost:8080/",
          "height": 295
        },
        "id": "nOKLFPG5bBaf",
        "outputId": "46ed8005-1004-47d8-963d-89e09d1d43e2"
      },
      "source": [
        "plt.scatter(X_test[\"Hours\"], X_test[\"Actual Scores\"])\r\n",
        "plt.scatter(X_test[\"Hours\"], X_test[\"Predicted Scores\"], c = \"r\")\r\n",
        "plt.title(\"Comparision of actual and Predicted scores\")\r\n",
        "plt.xlabel(\"Hours\")\r\n",
        "plt.ylabel(\"Scores\")\r\n",
        "plt.legend([\"Actual Scores\", \"Predicted Scores\"])\r\n",
        "plt.show()"
      ],
      "execution_count": 61,
      "outputs": [
        {
          "output_type": "display_data",
          "data": {
            "image/png": "[encoded data removed]",
            "text/plain": [
              "<Figure size 432x288 with 1 Axes>"
            ]
          },
          "metadata": {
            "tags": [],
            "needs_background": "light"
          }
        }
      ]
    },
    {
      "cell_type": "markdown",
      "metadata": {
        "id": "qJ63j7yodTIx"
      },
      "source": [
        "As we can see actual and predicted scores are very close to each other for a given Hours. But we need to find how much there is difference between Actual and Predicted scores. So we need a metric to determine performance of the model."
      ]
    },
    {
      "cell_type": "markdown",
      "metadata": {
        "id": "A5Nqp7OOfKkC"
      },
      "source": [
        "### Performance of the model:"
      ]
    },
    {
      "cell_type": "markdown",
      "metadata": {
        "id": "HQS6Oo7ggvL4"
      },
      "source": [
        "*  Here I am going to use Mean Absolute Error. It gives us, on an average how much there is difference between actual and predicted Scores"
      ]
    },
    {
      "cell_type": "code",
      "metadata": {
        "id": "rut4fbMwhWOk"
      },
      "source": [
        "from sklearn.metrics import mean_absolute_error, r2_score"
      ],
      "execution_count": 62,
      "outputs": []
    },
    {
      "cell_type": "code",
      "metadata": {
        "colab": {
          "base_uri": "https://localhost:8080/"
        },
        "id": "S8YWg3pUhdcr",
        "outputId": "ed5bebff-f083-4bb1-c412-7b253108e692"
      },
      "source": [
        "mean_absolute_error(y_test, y_test_pred)"
      ],
      "execution_count": 63,
      "outputs": [
        {
          "output_type": "execute_result",
          "data": {
            "text/plain": [
              "3.9207511902099244"
            ]
          },
          "metadata": {
            "tags": []
          },
          "execution_count": 63
        }
      ]
    },
    {
      "cell_type": "markdown",
      "metadata": {
        "id": "RSbUa3u_hiWs"
      },
      "source": [
        "* so we can see mean absolute error as 3.92 which means, on an average there is 3.92 difference between actual and predicted Scores."
      ]
    },
    {
      "cell_type": "code",
      "metadata": {
        "colab": {
          "base_uri": "https://localhost:8080/"
        },
        "id": "kkDWoDXkiSEX",
        "outputId": "94911e85-8182-4444-e168-0f62c09ef15d"
      },
      "source": [
        "r2_score(y_test, y_test_pred)"
      ],
      "execution_count": 64,
      "outputs": [
        {
          "output_type": "execute_result",
          "data": {
            "text/plain": [
              "0.9678055545167994"
            ]
          },
          "metadata": {
            "tags": []
          },
          "execution_count": 64
        }
      ]
    },
    {
      "cell_type": "markdown",
      "metadata": {
        "id": "LIvTsn0eij18"
      },
      "source": [
        "* r2_score value is 0.967 and ideal r2_score is 1.\r\n",
        "* 0.967 is very close to 1 so we can say that model is performing good."
      ]
    },
    {
      "cell_type": "markdown",
      "metadata": {
        "id": "0zOG6Sp2jJ5U"
      },
      "source": [
        "### What will be predicted score if a student studies for 9.25 hrs/ day?"
      ]
    },
    {
      "cell_type": "code",
      "metadata": {
        "colab": {
          "base_uri": "https://localhost:8080/"
        },
        "id": "bCYbIA2mjpiV",
        "outputId": "920f4ce9-cf72-41b3-fbf1-eb326d72a86f"
      },
      "source": [
        "lr_model.predict([[9.25]])"
      ],
      "execution_count": 66,
      "outputs": [
        {
          "output_type": "execute_result",
          "data": {
            "text/plain": [
              "array([92.38611528])"
            ]
          },
          "metadata": {
            "tags": []
          },
          "execution_count": 66
        }
      ]
    },
    {
      "cell_type": "markdown",
      "metadata": {
        "id": "w9bRHPhRjwR7"
      },
      "source": [
        "* So if a student studies for 9.25 hrs/day then he can score 92.38 marks approximately"
      ]
    }
  ]
}